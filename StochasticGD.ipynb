{
 "cells": [
  {
   "cell_type": "code",
   "execution_count": 1,
   "id": "2da86906",
   "metadata": {},
   "outputs": [],
   "source": [
    "from sklearn.linear_model import SGDRegressor"
   ]
  },
  {
   "cell_type": "code",
   "execution_count": 2,
   "id": "38849f78",
   "metadata": {},
   "outputs": [],
   "source": [
    "from sklearn.model_selection import GridSearchCV"
   ]
  },
  {
   "cell_type": "code",
   "execution_count": 3,
   "id": "edfdc787",
   "metadata": {},
   "outputs": [],
   "source": [
    "import warnings\n",
    "from warnings import filterwarnings\n",
    "filterwarnings(\"ignore\")"
   ]
  },
  {
   "cell_type": "code",
   "execution_count": 4,
   "id": "9826c405",
   "metadata": {},
   "outputs": [],
   "source": [
    "import pandas as pd"
   ]
  },
  {
   "cell_type": "code",
   "execution_count": 5,
   "id": "6cf7c851",
   "metadata": {},
   "outputs": [],
   "source": [
    "data =pd.read_csv(\"ML.csv\")"
   ]
  },
  {
   "cell_type": "code",
   "execution_count": 6,
   "id": "52517168",
   "metadata": {},
   "outputs": [
    {
     "data": {
      "text/html": [
       "<div>\n",
       "<style scoped>\n",
       "    .dataframe tbody tr th:only-of-type {\n",
       "        vertical-align: middle;\n",
       "    }\n",
       "\n",
       "    .dataframe tbody tr th {\n",
       "        vertical-align: top;\n",
       "    }\n",
       "\n",
       "    .dataframe thead th {\n",
       "        text-align: right;\n",
       "    }\n",
       "</style>\n",
       "<table border=\"1\" class=\"dataframe\">\n",
       "  <thead>\n",
       "    <tr style=\"text-align: right;\">\n",
       "      <th></th>\n",
       "      <th>Obs</th>\n",
       "      <th>y</th>\n",
       "      <th>x1</th>\n",
       "      <th>x2</th>\n",
       "      <th>x3</th>\n",
       "      <th>x4</th>\n",
       "      <th>x5</th>\n",
       "      <th>x6</th>\n",
       "    </tr>\n",
       "  </thead>\n",
       "  <tbody>\n",
       "    <tr>\n",
       "      <th>0</th>\n",
       "      <td>1</td>\n",
       "      <td>4540</td>\n",
       "      <td>2140</td>\n",
       "      <td>20640</td>\n",
       "      <td>30250</td>\n",
       "      <td>205</td>\n",
       "      <td>1732</td>\n",
       "      <td>99</td>\n",
       "    </tr>\n",
       "    <tr>\n",
       "      <th>1</th>\n",
       "      <td>2</td>\n",
       "      <td>4315</td>\n",
       "      <td>2016</td>\n",
       "      <td>20280</td>\n",
       "      <td>30010</td>\n",
       "      <td>195</td>\n",
       "      <td>1697</td>\n",
       "      <td>100</td>\n",
       "    </tr>\n",
       "    <tr>\n",
       "      <th>2</th>\n",
       "      <td>3</td>\n",
       "      <td>4095</td>\n",
       "      <td>1905</td>\n",
       "      <td>19860</td>\n",
       "      <td>29780</td>\n",
       "      <td>184</td>\n",
       "      <td>1662</td>\n",
       "      <td>97</td>\n",
       "    </tr>\n",
       "    <tr>\n",
       "      <th>3</th>\n",
       "      <td>4</td>\n",
       "      <td>3650</td>\n",
       "      <td>1675</td>\n",
       "      <td>18980</td>\n",
       "      <td>29330</td>\n",
       "      <td>164</td>\n",
       "      <td>1598</td>\n",
       "      <td>97</td>\n",
       "    </tr>\n",
       "    <tr>\n",
       "      <th>4</th>\n",
       "      <td>5</td>\n",
       "      <td>3200</td>\n",
       "      <td>1474</td>\n",
       "      <td>18100</td>\n",
       "      <td>28960</td>\n",
       "      <td>144</td>\n",
       "      <td>1541</td>\n",
       "      <td>97</td>\n",
       "    </tr>\n",
       "  </tbody>\n",
       "</table>\n",
       "</div>"
      ],
      "text/plain": [
       "   Obs     y    x1     x2     x3   x4    x5   x6\n",
       "0    1  4540  2140  20640  30250  205  1732   99\n",
       "1    2  4315  2016  20280  30010  195  1697  100\n",
       "2    3  4095  1905  19860  29780  184  1662   97\n",
       "3    4  3650  1675  18980  29330  164  1598   97\n",
       "4    5  3200  1474  18100  28960  144  1541   97"
      ]
     },
     "execution_count": 6,
     "metadata": {},
     "output_type": "execute_result"
    }
   ],
   "source": [
    "data.head()"
   ]
  },
  {
   "cell_type": "code",
   "execution_count": 7,
   "id": "26046c88",
   "metadata": {},
   "outputs": [],
   "source": [
    "from sklearn.preprocessing import StandardScaler"
   ]
  },
  {
   "cell_type": "code",
   "execution_count": 8,
   "id": "d5eb3f97",
   "metadata": {},
   "outputs": [],
   "source": [
    "SS = StandardScaler()"
   ]
  },
  {
   "cell_type": "code",
   "execution_count": 9,
   "id": "cb8c31ff",
   "metadata": {},
   "outputs": [],
   "source": [
    "transformed_data = SS.fit_transform(data)  #data preprocessing"
   ]
  },
  {
   "cell_type": "code",
   "execution_count": 34,
   "id": "f7ed08be",
   "metadata": {},
   "outputs": [
    {
     "data": {
      "text/plain": [
       "array([[-1.68927752,  1.27634467,  1.32676843,  1.2327951 ,  1.39941477,\n",
       "         1.31795271,  1.17743329,  0.33814813],\n",
       "       [-1.6026479 ,  0.82480764,  0.82833842,  0.84532676,  0.87807588,\n",
       "         0.88583707,  0.66294933,  0.55284535],\n",
       "       [-1.51601829,  0.38330477,  0.38216317,  0.39328037,  0.37845945,\n",
       "         0.41050986,  0.14846537, -0.09124632],\n",
       "       [-1.42938867, -0.50973514, -0.54234411, -0.55386447, -0.59905097,\n",
       "        -0.45372142, -0.7923053 , -0.09124632],\n",
       "       [-1.34275905, -1.41280919, -1.35028307, -1.5010093 , -1.40278175,\n",
       "        -1.31795271, -1.63017917, -0.09124632],\n",
       "       [-1.25612944,  1.86434622,  1.72470852,  1.3404252 ,  1.03664979,\n",
       "         1.79327992,  0.83934383, -2.23821856],\n",
       "       [-1.16949982,  1.43087067,  1.2463765 ,  0.87223429,  0.48924396,\n",
       "         1.36116427,  0.25136216, -2.23821856],\n",
       "       [-1.0828702 ,  0.87497842,  0.7238289 ,  0.50198676, -0.00385574,\n",
       "         0.92904863, -0.17492455, -2.23821856],\n",
       "       [-0.99624059, -0.16857382, -0.43381499, -0.62274773, -1.12473434,\n",
       "        -0.15124047, -1.17449338, -2.667613  ],\n",
       "       [-0.90961097, -1.07566155, -1.29802832, -1.59572378, -2.02187168,\n",
       "        -1.10189489, -1.90947046, -2.667613  ],\n",
       "       [-0.82298136,  1.0856957 ,  1.19412174,  1.10363899,  1.11702287,\n",
       "         0.88583707,  1.29502962,  0.76754257],\n",
       "       [-0.73635174,  0.56994007,  0.65549576,  0.68388162,  0.6825738 ,\n",
       "         0.66977925,  0.86874291,  0.55284535],\n",
       "       [-0.64972212,  0.15452601,  0.2173597 ,  0.30717629,  0.24812473,\n",
       "         0.2376636 ,  0.4424562 ,  0.55284535],\n",
       "       [-0.56309251, -0.56592641, -0.5463637 , -0.51081243, -0.51216115,\n",
       "        -0.58335612, -0.32191996,  0.55284535],\n",
       "       [-0.47646289, -1.56332154, -1.48694937, -1.57635036, -1.44622666,\n",
       "        -1.53401053, -1.17449338,  0.76754257],\n",
       "       [-0.38983327,  1.31648129,  1.42725835,  1.27584714,  1.20391269,\n",
       "         1.4475874 ,  0.76584612,  0.1234509 ],\n",
       "       [-0.30320366,  0.87497842,  0.95696552,  0.90990482,  0.76946361,\n",
       "         1.05868332,  0.39835758, -0.30594354],\n",
       "       [-0.21657404,  0.42344139,  0.42637874,  0.39328037,  0.22640227,\n",
       "         0.54014455, -0.14552546, -0.73533799],\n",
       "       [-0.12994442, -0.54987176, -0.61067725, -0.58615349, -0.77283059,\n",
       "        -0.45372142, -1.11569521, -0.73533799],\n",
       "       [-0.04331481, -1.39274088, -1.28998912, -0.85522873, -1.55483893,\n",
       "        -1.27474115, -1.82127321, -0.73533799],\n",
       "       [ 0.04331481,  0.85491011,  1.01323988,  1.08211297,  1.26908005,\n",
       "         0.79941394,  1.41262596,  0.76754257],\n",
       "       [ 0.12994442,  0.43146872,  0.4786335 ,  0.59777754,  0.76946361,\n",
       "         0.3672983 ,  0.898142  ,  0.55284535],\n",
       "       [ 0.21657404, -0.02608881,  0.02039945,  0.1995462 ,  0.35673699,\n",
       "        -0.06481735,  0.47185529,  0.55284535],\n",
       "       [ 0.30320366, -0.87698525, -0.86391185, -0.65073155, -0.5338836 ,\n",
       "        -0.92904863, -0.41011721,  0.33814813],\n",
       "       [ 0.38983327, -1.72386804, -1.64773324, -1.74855851, -1.40278175,\n",
       "        -1.75006835, -1.21859201,  0.55284535],\n",
       "       [ 0.47646289,  1.01746344,  0.95294593,  1.12516501,  1.20391269,\n",
       "         0.79941394,  1.38322687,  0.33814813],\n",
       "       [ 0.56309251,  0.60004254,  0.50275108,  0.71617065,  0.72601871,\n",
       "         0.41050986,  0.91284154,  0.33814813],\n",
       "       [ 0.64972212,  0.1284372 , -0.01175732,  0.27488726,  0.33501454,\n",
       "        -0.06481735,  0.39835758,  0.33814813],\n",
       "       [ 0.73635174, -0.74854805, -0.87999024, -0.65073155, -0.55560606,\n",
       "        -0.92904863, -0.45421584,  0.33814813],\n",
       "       [ 0.82298136, -1.66566993, -1.6959684 , -1.74855851, -1.51139402,\n",
       "        -1.79327992, -1.33618834,  0.33814813],\n",
       "       [ 0.90961097,  0.89504673,  1.04941625,  1.03906093,  1.24735759,\n",
       "         1.01547176,  1.13333466,  0.9822398 ],\n",
       "       [ 0.99624059,  0.4495302 ,  0.53892745,  0.55472551,  0.72601871,\n",
       "         0.49693299,  0.58945162,  0.76754257],\n",
       "       [ 1.0828702 ,  0.07224592,  0.084713  ,  0.15649416,  0.31329209,\n",
       "         0.15124047,  0.22196308,  0.76754257],\n",
       "       [ 1.16949982, -0.85089645, -0.79557871, -0.84446572, -0.5338836 ,\n",
       "        -0.79941394, -0.63061034,  0.76754257],\n",
       "       [ 1.25612944, -1.68573824, -1.60753727, -1.8454256 , -1.53311647,\n",
       "        -1.66364522, -1.46848421,  0.76754257],\n",
       "       [ 1.34275905,  0.99940196,  1.02931827,  1.10363899,  1.22563514,\n",
       "         0.9722602 ,  1.55962137,  0.55284535],\n",
       "       [ 1.42938867,  0.55388542,  0.57912342,  0.70540764,  0.74774116,\n",
       "         0.58335612,  1.13333466,  0.33814813],\n",
       "       [ 1.51601829,  0.13847136,  0.10079139,  0.27488726,  0.29156963,\n",
       "         0.15124047,  0.56005254,  0.33814813],\n",
       "       [ 1.6026479 , -0.75055488, -0.77950032, -0.69378359, -0.62077342,\n",
       "        -0.79941394, -0.52771355,  0.33814813],\n",
       "       [ 1.68927752, -1.65362894, -1.61959606, -1.70550648, -1.51139402,\n",
       "        -1.62043366, -1.21859201,  0.55284535]])"
      ]
     },
     "execution_count": 34,
     "metadata": {},
     "output_type": "execute_result"
    }
   ],
   "source": [
    "transformed_data"
   ]
  },
  {
   "cell_type": "code",
   "execution_count": 11,
   "id": "924dd523",
   "metadata": {},
   "outputs": [],
   "source": [
    "dataframe = pd.DataFrame(transformed_data)"
   ]
  },
  {
   "cell_type": "code",
   "execution_count": 32,
   "id": "738b6124",
   "metadata": {},
   "outputs": [
    {
     "data": {
      "text/html": [
       "<div>\n",
       "<style scoped>\n",
       "    .dataframe tbody tr th:only-of-type {\n",
       "        vertical-align: middle;\n",
       "    }\n",
       "\n",
       "    .dataframe tbody tr th {\n",
       "        vertical-align: top;\n",
       "    }\n",
       "\n",
       "    .dataframe thead th {\n",
       "        text-align: right;\n",
       "    }\n",
       "</style>\n",
       "<table border=\"1\" class=\"dataframe\">\n",
       "  <thead>\n",
       "    <tr style=\"text-align: right;\">\n",
       "      <th></th>\n",
       "      <th>0</th>\n",
       "      <th>1</th>\n",
       "      <th>2</th>\n",
       "      <th>3</th>\n",
       "      <th>4</th>\n",
       "      <th>5</th>\n",
       "      <th>6</th>\n",
       "      <th>7</th>\n",
       "    </tr>\n",
       "  </thead>\n",
       "  <tbody>\n",
       "    <tr>\n",
       "      <th>0</th>\n",
       "      <td>-1.689278</td>\n",
       "      <td>1.276345</td>\n",
       "      <td>1.326768</td>\n",
       "      <td>1.232795</td>\n",
       "      <td>1.399415</td>\n",
       "      <td>1.317953</td>\n",
       "      <td>1.177433</td>\n",
       "      <td>0.338148</td>\n",
       "    </tr>\n",
       "    <tr>\n",
       "      <th>1</th>\n",
       "      <td>-1.602648</td>\n",
       "      <td>0.824808</td>\n",
       "      <td>0.828338</td>\n",
       "      <td>0.845327</td>\n",
       "      <td>0.878076</td>\n",
       "      <td>0.885837</td>\n",
       "      <td>0.662949</td>\n",
       "      <td>0.552845</td>\n",
       "    </tr>\n",
       "    <tr>\n",
       "      <th>2</th>\n",
       "      <td>-1.516018</td>\n",
       "      <td>0.383305</td>\n",
       "      <td>0.382163</td>\n",
       "      <td>0.393280</td>\n",
       "      <td>0.378459</td>\n",
       "      <td>0.410510</td>\n",
       "      <td>0.148465</td>\n",
       "      <td>-0.091246</td>\n",
       "    </tr>\n",
       "    <tr>\n",
       "      <th>3</th>\n",
       "      <td>-1.429389</td>\n",
       "      <td>-0.509735</td>\n",
       "      <td>-0.542344</td>\n",
       "      <td>-0.553864</td>\n",
       "      <td>-0.599051</td>\n",
       "      <td>-0.453721</td>\n",
       "      <td>-0.792305</td>\n",
       "      <td>-0.091246</td>\n",
       "    </tr>\n",
       "    <tr>\n",
       "      <th>4</th>\n",
       "      <td>-1.342759</td>\n",
       "      <td>-1.412809</td>\n",
       "      <td>-1.350283</td>\n",
       "      <td>-1.501009</td>\n",
       "      <td>-1.402782</td>\n",
       "      <td>-1.317953</td>\n",
       "      <td>-1.630179</td>\n",
       "      <td>-0.091246</td>\n",
       "    </tr>\n",
       "  </tbody>\n",
       "</table>\n",
       "</div>"
      ],
      "text/plain": [
       "          0         1         2         3         4         5         6  \\\n",
       "0 -1.689278  1.276345  1.326768  1.232795  1.399415  1.317953  1.177433   \n",
       "1 -1.602648  0.824808  0.828338  0.845327  0.878076  0.885837  0.662949   \n",
       "2 -1.516018  0.383305  0.382163  0.393280  0.378459  0.410510  0.148465   \n",
       "3 -1.429389 -0.509735 -0.542344 -0.553864 -0.599051 -0.453721 -0.792305   \n",
       "4 -1.342759 -1.412809 -1.350283 -1.501009 -1.402782 -1.317953 -1.630179   \n",
       "\n",
       "          7  \n",
       "0  0.338148  \n",
       "1  0.552845  \n",
       "2 -0.091246  \n",
       "3 -0.091246  \n",
       "4 -0.091246  "
      ]
     },
     "execution_count": 32,
     "metadata": {},
     "output_type": "execute_result"
    }
   ],
   "source": [
    "dataframe.head()"
   ]
  },
  {
   "cell_type": "code",
   "execution_count": 13,
   "id": "1fc92c81",
   "metadata": {},
   "outputs": [],
   "source": [
    "X = dataframe.iloc[:,2:]"
   ]
  },
  {
   "cell_type": "code",
   "execution_count": 31,
   "id": "5e9d8496",
   "metadata": {},
   "outputs": [
    {
     "data": {
      "text/html": [
       "<div>\n",
       "<style scoped>\n",
       "    .dataframe tbody tr th:only-of-type {\n",
       "        vertical-align: middle;\n",
       "    }\n",
       "\n",
       "    .dataframe tbody tr th {\n",
       "        vertical-align: top;\n",
       "    }\n",
       "\n",
       "    .dataframe thead th {\n",
       "        text-align: right;\n",
       "    }\n",
       "</style>\n",
       "<table border=\"1\" class=\"dataframe\">\n",
       "  <thead>\n",
       "    <tr style=\"text-align: right;\">\n",
       "      <th></th>\n",
       "      <th>2</th>\n",
       "      <th>3</th>\n",
       "      <th>4</th>\n",
       "      <th>5</th>\n",
       "      <th>6</th>\n",
       "      <th>7</th>\n",
       "    </tr>\n",
       "  </thead>\n",
       "  <tbody>\n",
       "    <tr>\n",
       "      <th>0</th>\n",
       "      <td>1.326768</td>\n",
       "      <td>1.232795</td>\n",
       "      <td>1.399415</td>\n",
       "      <td>1.317953</td>\n",
       "      <td>1.177433</td>\n",
       "      <td>0.338148</td>\n",
       "    </tr>\n",
       "    <tr>\n",
       "      <th>1</th>\n",
       "      <td>0.828338</td>\n",
       "      <td>0.845327</td>\n",
       "      <td>0.878076</td>\n",
       "      <td>0.885837</td>\n",
       "      <td>0.662949</td>\n",
       "      <td>0.552845</td>\n",
       "    </tr>\n",
       "    <tr>\n",
       "      <th>2</th>\n",
       "      <td>0.382163</td>\n",
       "      <td>0.393280</td>\n",
       "      <td>0.378459</td>\n",
       "      <td>0.410510</td>\n",
       "      <td>0.148465</td>\n",
       "      <td>-0.091246</td>\n",
       "    </tr>\n",
       "    <tr>\n",
       "      <th>3</th>\n",
       "      <td>-0.542344</td>\n",
       "      <td>-0.553864</td>\n",
       "      <td>-0.599051</td>\n",
       "      <td>-0.453721</td>\n",
       "      <td>-0.792305</td>\n",
       "      <td>-0.091246</td>\n",
       "    </tr>\n",
       "    <tr>\n",
       "      <th>4</th>\n",
       "      <td>-1.350283</td>\n",
       "      <td>-1.501009</td>\n",
       "      <td>-1.402782</td>\n",
       "      <td>-1.317953</td>\n",
       "      <td>-1.630179</td>\n",
       "      <td>-0.091246</td>\n",
       "    </tr>\n",
       "  </tbody>\n",
       "</table>\n",
       "</div>"
      ],
      "text/plain": [
       "          2         3         4         5         6         7\n",
       "0  1.326768  1.232795  1.399415  1.317953  1.177433  0.338148\n",
       "1  0.828338  0.845327  0.878076  0.885837  0.662949  0.552845\n",
       "2  0.382163  0.393280  0.378459  0.410510  0.148465 -0.091246\n",
       "3 -0.542344 -0.553864 -0.599051 -0.453721 -0.792305 -0.091246\n",
       "4 -1.350283 -1.501009 -1.402782 -1.317953 -1.630179 -0.091246"
      ]
     },
     "execution_count": 31,
     "metadata": {},
     "output_type": "execute_result"
    }
   ],
   "source": [
    "X.head()"
   ]
  },
  {
   "cell_type": "code",
   "execution_count": 30,
   "id": "27580bc8",
   "metadata": {},
   "outputs": [
    {
     "data": {
      "text/html": [
       "<div>\n",
       "<style scoped>\n",
       "    .dataframe tbody tr th:only-of-type {\n",
       "        vertical-align: middle;\n",
       "    }\n",
       "\n",
       "    .dataframe tbody tr th {\n",
       "        vertical-align: top;\n",
       "    }\n",
       "\n",
       "    .dataframe thead th {\n",
       "        text-align: right;\n",
       "    }\n",
       "</style>\n",
       "<table border=\"1\" class=\"dataframe\">\n",
       "  <thead>\n",
       "    <tr style=\"text-align: right;\">\n",
       "      <th></th>\n",
       "      <th>1</th>\n",
       "    </tr>\n",
       "  </thead>\n",
       "  <tbody>\n",
       "    <tr>\n",
       "      <th>0</th>\n",
       "      <td>1.276345</td>\n",
       "    </tr>\n",
       "    <tr>\n",
       "      <th>1</th>\n",
       "      <td>0.824808</td>\n",
       "    </tr>\n",
       "    <tr>\n",
       "      <th>2</th>\n",
       "      <td>0.383305</td>\n",
       "    </tr>\n",
       "    <tr>\n",
       "      <th>3</th>\n",
       "      <td>-0.509735</td>\n",
       "    </tr>\n",
       "    <tr>\n",
       "      <th>4</th>\n",
       "      <td>-1.412809</td>\n",
       "    </tr>\n",
       "  </tbody>\n",
       "</table>\n",
       "</div>"
      ],
      "text/plain": [
       "          1\n",
       "0  1.276345\n",
       "1  0.824808\n",
       "2  0.383305\n",
       "3 -0.509735\n",
       "4 -1.412809"
      ]
     },
     "execution_count": 30,
     "metadata": {},
     "output_type": "execute_result"
    }
   ],
   "source": [
    "y = dataframe.iloc[:,1:2]\n",
    "y.head()"
   ]
  },
  {
   "cell_type": "code",
   "execution_count": 16,
   "id": "18493193",
   "metadata": {},
   "outputs": [],
   "source": [
    "from sklearn.model_selection import train_test_split"
   ]
  },
  {
   "cell_type": "code",
   "execution_count": 17,
   "id": "1aa3aef3",
   "metadata": {},
   "outputs": [],
   "source": [
    "X_train,X_test,y_train,y_test=train_test_split(X,y,random_state=104,test_size=0.2)"
   ]
  },
  {
   "cell_type": "code",
   "execution_count": 18,
   "id": "be8b1e02",
   "metadata": {},
   "outputs": [],
   "source": [
    "SGD = SGDRegressor()"
   ]
  },
  {
   "cell_type": "code",
   "execution_count": 19,
   "id": "6e3f584f",
   "metadata": {},
   "outputs": [],
   "source": [
    "#hyperparameter tuning\n",
    "param_grid = {\n",
    "    'loss': ['squared_loss', 'huber', 'epsilon_insensitive'],\n",
    "    'alpha': [0.0001, 0.001, 0.01, 0.1],\n",
    "    'penalty': ['l2', 'l1', 'elasticnet'],\n",
    "    'learning_rate': ['constant', 'optimal', 'invscaling', 'adaptive'],\n",
    "}\n"
   ]
  },
  {
   "cell_type": "code",
   "execution_count": 20,
   "id": "93ca9f05",
   "metadata": {},
   "outputs": [],
   "source": [
    "grid_search=GridSearchCV(SGD,param_grid,cv=8)"
   ]
  },
  {
   "cell_type": "code",
   "execution_count": 21,
   "id": "ad7b3cec",
   "metadata": {},
   "outputs": [
    {
     "data": {
      "text/html": [
       "<style>#sk-container-id-1 {color: black;}#sk-container-id-1 pre{padding: 0;}#sk-container-id-1 div.sk-toggleable {background-color: white;}#sk-container-id-1 label.sk-toggleable__label {cursor: pointer;display: block;width: 100%;margin-bottom: 0;padding: 0.3em;box-sizing: border-box;text-align: center;}#sk-container-id-1 label.sk-toggleable__label-arrow:before {content: \"▸\";float: left;margin-right: 0.25em;color: #696969;}#sk-container-id-1 label.sk-toggleable__label-arrow:hover:before {color: black;}#sk-container-id-1 div.sk-estimator:hover label.sk-toggleable__label-arrow:before {color: black;}#sk-container-id-1 div.sk-toggleable__content {max-height: 0;max-width: 0;overflow: hidden;text-align: left;background-color: #f0f8ff;}#sk-container-id-1 div.sk-toggleable__content pre {margin: 0.2em;color: black;border-radius: 0.25em;background-color: #f0f8ff;}#sk-container-id-1 input.sk-toggleable__control:checked~div.sk-toggleable__content {max-height: 200px;max-width: 100%;overflow: auto;}#sk-container-id-1 input.sk-toggleable__control:checked~label.sk-toggleable__label-arrow:before {content: \"▾\";}#sk-container-id-1 div.sk-estimator input.sk-toggleable__control:checked~label.sk-toggleable__label {background-color: #d4ebff;}#sk-container-id-1 div.sk-label input.sk-toggleable__control:checked~label.sk-toggleable__label {background-color: #d4ebff;}#sk-container-id-1 input.sk-hidden--visually {border: 0;clip: rect(1px 1px 1px 1px);clip: rect(1px, 1px, 1px, 1px);height: 1px;margin: -1px;overflow: hidden;padding: 0;position: absolute;width: 1px;}#sk-container-id-1 div.sk-estimator {font-family: monospace;background-color: #f0f8ff;border: 1px dotted black;border-radius: 0.25em;box-sizing: border-box;margin-bottom: 0.5em;}#sk-container-id-1 div.sk-estimator:hover {background-color: #d4ebff;}#sk-container-id-1 div.sk-parallel-item::after {content: \"\";width: 100%;border-bottom: 1px solid gray;flex-grow: 1;}#sk-container-id-1 div.sk-label:hover label.sk-toggleable__label {background-color: #d4ebff;}#sk-container-id-1 div.sk-serial::before {content: \"\";position: absolute;border-left: 1px solid gray;box-sizing: border-box;top: 0;bottom: 0;left: 50%;z-index: 0;}#sk-container-id-1 div.sk-serial {display: flex;flex-direction: column;align-items: center;background-color: white;padding-right: 0.2em;padding-left: 0.2em;position: relative;}#sk-container-id-1 div.sk-item {position: relative;z-index: 1;}#sk-container-id-1 div.sk-parallel {display: flex;align-items: stretch;justify-content: center;background-color: white;position: relative;}#sk-container-id-1 div.sk-item::before, #sk-container-id-1 div.sk-parallel-item::before {content: \"\";position: absolute;border-left: 1px solid gray;box-sizing: border-box;top: 0;bottom: 0;left: 50%;z-index: -1;}#sk-container-id-1 div.sk-parallel-item {display: flex;flex-direction: column;z-index: 1;position: relative;background-color: white;}#sk-container-id-1 div.sk-parallel-item:first-child::after {align-self: flex-end;width: 50%;}#sk-container-id-1 div.sk-parallel-item:last-child::after {align-self: flex-start;width: 50%;}#sk-container-id-1 div.sk-parallel-item:only-child::after {width: 0;}#sk-container-id-1 div.sk-dashed-wrapped {border: 1px dashed gray;margin: 0 0.4em 0.5em 0.4em;box-sizing: border-box;padding-bottom: 0.4em;background-color: white;}#sk-container-id-1 div.sk-label label {font-family: monospace;font-weight: bold;display: inline-block;line-height: 1.2em;}#sk-container-id-1 div.sk-label-container {text-align: center;}#sk-container-id-1 div.sk-container {/* jupyter's `normalize.less` sets `[hidden] { display: none; }` but bootstrap.min.css set `[hidden] { display: none !important; }` so we also need the `!important` here to be able to override the default hidden behavior on the sphinx rendered scikit-learn.org. See: https://github.com/scikit-learn/scikit-learn/issues/21755 */display: inline-block !important;position: relative;}#sk-container-id-1 div.sk-text-repr-fallback {display: none;}</style><div id=\"sk-container-id-1\" class=\"sk-top-container\"><div class=\"sk-text-repr-fallback\"><pre>GridSearchCV(cv=8, estimator=SGDRegressor(),\n",
       "             param_grid={&#x27;alpha&#x27;: [0.0001, 0.001, 0.01, 0.1],\n",
       "                         &#x27;learning_rate&#x27;: [&#x27;constant&#x27;, &#x27;optimal&#x27;, &#x27;invscaling&#x27;,\n",
       "                                           &#x27;adaptive&#x27;],\n",
       "                         &#x27;loss&#x27;: [&#x27;squared_loss&#x27;, &#x27;huber&#x27;,\n",
       "                                  &#x27;epsilon_insensitive&#x27;],\n",
       "                         &#x27;penalty&#x27;: [&#x27;l2&#x27;, &#x27;l1&#x27;, &#x27;elasticnet&#x27;]})</pre><b>In a Jupyter environment, please rerun this cell to show the HTML representation or trust the notebook. <br />On GitHub, the HTML representation is unable to render, please try loading this page with nbviewer.org.</b></div><div class=\"sk-container\" hidden><div class=\"sk-item sk-dashed-wrapped\"><div class=\"sk-label-container\"><div class=\"sk-label sk-toggleable\"><input class=\"sk-toggleable__control sk-hidden--visually\" id=\"sk-estimator-id-1\" type=\"checkbox\" ><label for=\"sk-estimator-id-1\" class=\"sk-toggleable__label sk-toggleable__label-arrow\">GridSearchCV</label><div class=\"sk-toggleable__content\"><pre>GridSearchCV(cv=8, estimator=SGDRegressor(),\n",
       "             param_grid={&#x27;alpha&#x27;: [0.0001, 0.001, 0.01, 0.1],\n",
       "                         &#x27;learning_rate&#x27;: [&#x27;constant&#x27;, &#x27;optimal&#x27;, &#x27;invscaling&#x27;,\n",
       "                                           &#x27;adaptive&#x27;],\n",
       "                         &#x27;loss&#x27;: [&#x27;squared_loss&#x27;, &#x27;huber&#x27;,\n",
       "                                  &#x27;epsilon_insensitive&#x27;],\n",
       "                         &#x27;penalty&#x27;: [&#x27;l2&#x27;, &#x27;l1&#x27;, &#x27;elasticnet&#x27;]})</pre></div></div></div><div class=\"sk-parallel\"><div class=\"sk-parallel-item\"><div class=\"sk-item\"><div class=\"sk-label-container\"><div class=\"sk-label sk-toggleable\"><input class=\"sk-toggleable__control sk-hidden--visually\" id=\"sk-estimator-id-2\" type=\"checkbox\" ><label for=\"sk-estimator-id-2\" class=\"sk-toggleable__label sk-toggleable__label-arrow\">estimator: SGDRegressor</label><div class=\"sk-toggleable__content\"><pre>SGDRegressor()</pre></div></div></div><div class=\"sk-serial\"><div class=\"sk-item\"><div class=\"sk-estimator sk-toggleable\"><input class=\"sk-toggleable__control sk-hidden--visually\" id=\"sk-estimator-id-3\" type=\"checkbox\" ><label for=\"sk-estimator-id-3\" class=\"sk-toggleable__label sk-toggleable__label-arrow\">SGDRegressor</label><div class=\"sk-toggleable__content\"><pre>SGDRegressor()</pre></div></div></div></div></div></div></div></div></div></div>"
      ],
      "text/plain": [
       "GridSearchCV(cv=8, estimator=SGDRegressor(),\n",
       "             param_grid={'alpha': [0.0001, 0.001, 0.01, 0.1],\n",
       "                         'learning_rate': ['constant', 'optimal', 'invscaling',\n",
       "                                           'adaptive'],\n",
       "                         'loss': ['squared_loss', 'huber',\n",
       "                                  'epsilon_insensitive'],\n",
       "                         'penalty': ['l2', 'l1', 'elasticnet']})"
      ]
     },
     "execution_count": 21,
     "metadata": {},
     "output_type": "execute_result"
    }
   ],
   "source": [
    "grid_search.fit(X_train,y_train)"
   ]
  },
  {
   "cell_type": "code",
   "execution_count": 23,
   "id": "5f91b43e",
   "metadata": {},
   "outputs": [],
   "source": [
    "y_predict = grid_search.predict(X_test)"
   ]
  },
  {
   "cell_type": "code",
   "execution_count": 36,
   "id": "306503d4",
   "metadata": {},
   "outputs": [
    {
     "data": {
      "text/plain": [
       "{'alpha': 0.1,\n",
       " 'learning_rate': 'constant',\n",
       " 'loss': 'epsilon_insensitive',\n",
       " 'penalty': 'elasticnet'}"
      ]
     },
     "execution_count": 36,
     "metadata": {},
     "output_type": "execute_result"
    }
   ],
   "source": [
    "best_params = grid_search.best_params_\n",
    "best_params"
   ]
  },
  {
   "cell_type": "code",
   "execution_count": 25,
   "id": "67d443a0",
   "metadata": {},
   "outputs": [],
   "source": [
    "from sklearn.metrics import mean_squared_error"
   ]
  },
  {
   "cell_type": "code",
   "execution_count": 26,
   "id": "9b6b0e10",
   "metadata": {},
   "outputs": [
    {
     "data": {
      "text/plain": [
       "0.003102985145987854"
      ]
     },
     "execution_count": 26,
     "metadata": {},
     "output_type": "execute_result"
    }
   ],
   "source": [
    "mean_squared_error(y_test,y_predict)"
   ]
  },
  {
   "cell_type": "code",
   "execution_count": 27,
   "id": "3b04e6fc",
   "metadata": {},
   "outputs": [],
   "source": [
    "from sklearn.metrics import r2_score"
   ]
  },
  {
   "cell_type": "code",
   "execution_count": 29,
   "id": "fd189e83",
   "metadata": {},
   "outputs": [
    {
     "data": {
      "text/plain": [
       "0.995497100276193"
      ]
     },
     "execution_count": 29,
     "metadata": {},
     "output_type": "execute_result"
    }
   ],
   "source": [
    "r2_score(y_test,y_predict)"
   ]
  }
 ],
 "metadata": {
  "kernelspec": {
   "display_name": "Python 3 (ipykernel)",
   "language": "python",
   "name": "python3"
  },
  "language_info": {
   "codemirror_mode": {
    "name": "ipython",
    "version": 3
   },
   "file_extension": ".py",
   "mimetype": "text/x-python",
   "name": "python",
   "nbconvert_exporter": "python",
   "pygments_lexer": "ipython3",
   "version": "3.11.5"
  }
 },
 "nbformat": 4,
 "nbformat_minor": 5
}
