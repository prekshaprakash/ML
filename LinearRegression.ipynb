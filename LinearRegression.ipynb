{
 "cells": [
  {
   "cell_type": "code",
   "execution_count": 30,
   "id": "0f7f028c",
   "metadata": {},
   "outputs": [],
   "source": [
    "import pandas as pd\n",
    "import numpy as np\n",
    "import matplotlib.pyplot as plt"
   ]
  },
  {
   "cell_type": "code",
   "execution_count": 2,
   "id": "65611190",
   "metadata": {},
   "outputs": [],
   "source": [
    "from sklearn.preprocessing import StandardScaler"
   ]
  },
  {
   "cell_type": "code",
   "execution_count": 3,
   "id": "1b30aeee",
   "metadata": {},
   "outputs": [],
   "source": [
    "from sklearn.model_selection import train_test_split\n",
    "from sklearn.linear_model import LinearRegression\n",
    "from sklearn.metrics import mean_squared_error"
   ]
  },
  {
   "cell_type": "code",
   "execution_count": 4,
   "id": "359ceafd",
   "metadata": {},
   "outputs": [],
   "source": [
    "data=pd.read_csv(\"Midsem_LinearR.csv\")"
   ]
  },
  {
   "cell_type": "code",
   "execution_count": 5,
   "id": "c4179982",
   "metadata": {},
   "outputs": [
    {
     "data": {
      "text/html": [
       "<div>\n",
       "<style scoped>\n",
       "    .dataframe tbody tr th:only-of-type {\n",
       "        vertical-align: middle;\n",
       "    }\n",
       "\n",
       "    .dataframe tbody tr th {\n",
       "        vertical-align: top;\n",
       "    }\n",
       "\n",
       "    .dataframe thead th {\n",
       "        text-align: right;\n",
       "    }\n",
       "</style>\n",
       "<table border=\"1\" class=\"dataframe\">\n",
       "  <thead>\n",
       "    <tr style=\"text-align: right;\">\n",
       "      <th></th>\n",
       "      <th>x1</th>\n",
       "      <th>x2</th>\n",
       "      <th>x3</th>\n",
       "      <th>x4</th>\n",
       "      <th>x5</th>\n",
       "      <th>y</th>\n",
       "    </tr>\n",
       "  </thead>\n",
       "  <tbody>\n",
       "    <tr>\n",
       "      <th>0</th>\n",
       "      <td>3</td>\n",
       "      <td>3</td>\n",
       "      <td>3</td>\n",
       "      <td>3</td>\n",
       "      <td>0</td>\n",
       "      <td>0.787</td>\n",
       "    </tr>\n",
       "    <tr>\n",
       "      <th>1</th>\n",
       "      <td>8</td>\n",
       "      <td>30</td>\n",
       "      <td>8</td>\n",
       "      <td>8</td>\n",
       "      <td>0</td>\n",
       "      <td>0.293</td>\n",
       "    </tr>\n",
       "    <tr>\n",
       "      <th>2</th>\n",
       "      <td>3</td>\n",
       "      <td>6</td>\n",
       "      <td>6</td>\n",
       "      <td>6</td>\n",
       "      <td>0</td>\n",
       "      <td>1.710</td>\n",
       "    </tr>\n",
       "    <tr>\n",
       "      <th>3</th>\n",
       "      <td>4</td>\n",
       "      <td>4</td>\n",
       "      <td>4</td>\n",
       "      <td>12</td>\n",
       "      <td>0</td>\n",
       "      <td>0.203</td>\n",
       "    </tr>\n",
       "    <tr>\n",
       "      <th>4</th>\n",
       "      <td>8</td>\n",
       "      <td>7</td>\n",
       "      <td>6</td>\n",
       "      <td>5</td>\n",
       "      <td>0</td>\n",
       "      <td>0.806</td>\n",
       "    </tr>\n",
       "  </tbody>\n",
       "</table>\n",
       "</div>"
      ],
      "text/plain": [
       "   x1  x2  x3  x4  x5      y\n",
       "0   3   3   3   3   0  0.787\n",
       "1   8  30   8   8   0  0.293\n",
       "2   3   6   6   6   0  1.710\n",
       "3   4   4   4  12   0  0.203\n",
       "4   8   7   6   5   0  0.806"
      ]
     },
     "execution_count": 5,
     "metadata": {},
     "output_type": "execute_result"
    }
   ],
   "source": [
    "data.head()"
   ]
  },
  {
   "cell_type": "code",
   "execution_count": 6,
   "id": "b52b3401",
   "metadata": {},
   "outputs": [
    {
     "name": "stdout",
     "output_type": "stream",
     "text": [
      "<class 'pandas.core.frame.DataFrame'>\n",
      "RangeIndex: 25 entries, 0 to 24\n",
      "Data columns (total 6 columns):\n",
      " #   Column  Non-Null Count  Dtype  \n",
      "---  ------  --------------  -----  \n",
      " 0   x1      25 non-null     int64  \n",
      " 1   x2      25 non-null     int64  \n",
      " 2   x3      25 non-null     int64  \n",
      " 3   x4      25 non-null     int64  \n",
      " 4   x5      25 non-null     int64  \n",
      " 5   y       25 non-null     float64\n",
      "dtypes: float64(1), int64(5)\n",
      "memory usage: 1.3 KB\n"
     ]
    }
   ],
   "source": [
    "data.info()"
   ]
  },
  {
   "cell_type": "code",
   "execution_count": 7,
   "id": "10c2e2c4",
   "metadata": {},
   "outputs": [
    {
     "data": {
      "text/html": [
       "<div>\n",
       "<style scoped>\n",
       "    .dataframe tbody tr th:only-of-type {\n",
       "        vertical-align: middle;\n",
       "    }\n",
       "\n",
       "    .dataframe tbody tr th {\n",
       "        vertical-align: top;\n",
       "    }\n",
       "\n",
       "    .dataframe thead th {\n",
       "        text-align: right;\n",
       "    }\n",
       "</style>\n",
       "<table border=\"1\" class=\"dataframe\">\n",
       "  <thead>\n",
       "    <tr style=\"text-align: right;\">\n",
       "      <th></th>\n",
       "      <th>x1</th>\n",
       "      <th>x2</th>\n",
       "      <th>x3</th>\n",
       "      <th>x4</th>\n",
       "      <th>x5</th>\n",
       "      <th>y</th>\n",
       "    </tr>\n",
       "  </thead>\n",
       "  <tbody>\n",
       "    <tr>\n",
       "      <th>count</th>\n",
       "      <td>25.000000</td>\n",
       "      <td>25.000000</td>\n",
       "      <td>25.000000</td>\n",
       "      <td>25.000000</td>\n",
       "      <td>25.00000</td>\n",
       "      <td>25.000000</td>\n",
       "    </tr>\n",
       "    <tr>\n",
       "      <th>mean</th>\n",
       "      <td>6.480000</td>\n",
       "      <td>8.480000</td>\n",
       "      <td>4.920000</td>\n",
       "      <td>4.640000</td>\n",
       "      <td>38.00000</td>\n",
       "      <td>2.372080</td>\n",
       "    </tr>\n",
       "    <tr>\n",
       "      <th>std</th>\n",
       "      <td>4.224137</td>\n",
       "      <td>7.012608</td>\n",
       "      <td>2.722132</td>\n",
       "      <td>2.464413</td>\n",
       "      <td>28.06243</td>\n",
       "      <td>2.939697</td>\n",
       "    </tr>\n",
       "    <tr>\n",
       "      <th>min</th>\n",
       "      <td>2.000000</td>\n",
       "      <td>2.000000</td>\n",
       "      <td>2.000000</td>\n",
       "      <td>2.000000</td>\n",
       "      <td>0.00000</td>\n",
       "      <td>0.201000</td>\n",
       "    </tr>\n",
       "    <tr>\n",
       "      <th>25%</th>\n",
       "      <td>3.000000</td>\n",
       "      <td>4.000000</td>\n",
       "      <td>3.000000</td>\n",
       "      <td>3.000000</td>\n",
       "      <td>25.00000</td>\n",
       "      <td>0.379000</td>\n",
       "    </tr>\n",
       "    <tr>\n",
       "      <th>50%</th>\n",
       "      <td>5.000000</td>\n",
       "      <td>6.000000</td>\n",
       "      <td>4.000000</td>\n",
       "      <td>4.000000</td>\n",
       "      <td>50.00000</td>\n",
       "      <td>0.806000</td>\n",
       "    </tr>\n",
       "    <tr>\n",
       "      <th>75%</th>\n",
       "      <td>8.000000</td>\n",
       "      <td>10.000000</td>\n",
       "      <td>8.000000</td>\n",
       "      <td>6.000000</td>\n",
       "      <td>50.00000</td>\n",
       "      <td>3.345000</td>\n",
       "    </tr>\n",
       "    <tr>\n",
       "      <th>max</th>\n",
       "      <td>16.000000</td>\n",
       "      <td>30.000000</td>\n",
       "      <td>12.000000</td>\n",
       "      <td>12.000000</td>\n",
       "      <td>75.00000</td>\n",
       "      <td>9.210000</td>\n",
       "    </tr>\n",
       "  </tbody>\n",
       "</table>\n",
       "</div>"
      ],
      "text/plain": [
       "              x1         x2         x3         x4        x5          y\n",
       "count  25.000000  25.000000  25.000000  25.000000  25.00000  25.000000\n",
       "mean    6.480000   8.480000   4.920000   4.640000  38.00000   2.372080\n",
       "std     4.224137   7.012608   2.722132   2.464413  28.06243   2.939697\n",
       "min     2.000000   2.000000   2.000000   2.000000   0.00000   0.201000\n",
       "25%     3.000000   4.000000   3.000000   3.000000  25.00000   0.379000\n",
       "50%     5.000000   6.000000   4.000000   4.000000  50.00000   0.806000\n",
       "75%     8.000000  10.000000   8.000000   6.000000  50.00000   3.345000\n",
       "max    16.000000  30.000000  12.000000  12.000000  75.00000   9.210000"
      ]
     },
     "execution_count": 7,
     "metadata": {},
     "output_type": "execute_result"
    }
   ],
   "source": [
    "data.describe()"
   ]
  },
  {
   "cell_type": "code",
   "execution_count": 32,
   "id": "c078a775",
   "metadata": {},
   "outputs": [
    {
     "data": {
      "image/png": "[encoded data removed]",
      "text/plain": [
       "<Figure size 640x480 with 1 Axes>"
      ]
     },
     "metadata": {},
     "output_type": "display_data"
    }
   ],
   "source": [
    "#visulaization\n",
    "for feature in ['x1', 'x2', 'x3', 'x4', 'x5']:\n",
    "    plt.scatter(data[feature], data['y'], label=feature)\n",
    "\n",
    "plt.xlabel('X Variables')\n",
    "plt.ylabel('Y Variable')\n",
    "plt.title('Scatter Plot of X Variables vs Y Variable')\n",
    "plt.legend()\n",
    "plt.show()"
   ]
  },
  {
   "cell_type": "code",
   "execution_count": 8,
   "id": "d1936621",
   "metadata": {},
   "outputs": [],
   "source": [
    "SS = StandardScaler()"
   ]
  },
  {
   "cell_type": "code",
   "execution_count": 9,
   "id": "421a84bf",
   "metadata": {},
   "outputs": [],
   "source": [
    "transformed_data = SS.fit_transform(data)"
   ]
  },
  {
   "cell_type": "code",
   "execution_count": 10,
   "id": "a8a13917",
   "metadata": {},
   "outputs": [
    {
     "data": {
      "text/plain": [
       "array([[-0.84082503, -0.79756373, -0.71987403, -0.6791953 , -1.38204664,\n",
       "        -0.55031704],\n",
       "       [ 0.36725691,  3.13203861,  1.15479793,  1.39152208, -1.38204664,\n",
       "        -0.72182675],\n",
       "       [-0.84082503, -0.36094125,  0.40492914,  0.56323513, -1.38204664,\n",
       "        -0.22986468],\n",
       "       [-0.59920864, -0.65202291, -0.34493964,  3.04809598, -1.38204664,\n",
       "        -0.75307346],\n",
       "       [ 0.36725691, -0.21540042,  0.40492914,  0.14909165, -1.38204664,\n",
       "        -0.54372051],\n",
       "       [ 0.85048969,  1.67663033,  0.02999475,  0.14909165, -1.38204664,\n",
       "         0.81273384],\n",
       "       [ 0.36725691, -0.36094125, -0.71987403, -0.6791953 , -0.47280543,\n",
       "        -0.61281045],\n",
       "       [-0.11597587,  2.25879364, -0.34493964, -0.26505182, -0.47280543,\n",
       "         2.3382676 ],\n",
       "       [-0.59920864,  0.22122206,  2.6545355 , -0.26505182, -0.47280543,\n",
       "         2.37402773],\n",
       "       [ 2.30018802,  0.51230371,  1.15479793, -0.26505182, -0.47280543,\n",
       "        -0.34964373],\n",
       "       [-0.84082503,  0.22122206,  1.15479793,  1.39152208, -0.47280543,\n",
       "         0.75753132],\n",
       "       [ 0.36725691, -0.79756373, -0.71987403, -0.6791953 , -0.47280543,\n",
       "        -0.72182675],\n",
       "       [-0.84082503, -0.36094125, -0.71987403, -0.6791953 ,  0.43643578,\n",
       "        -0.04169005],\n",
       "       [-0.84082503, -0.0698596 ,  1.15479793, -0.6791953 ,  0.43643578,\n",
       "         2.35909874],\n",
       "       [-0.59920864, -0.0698596 , -0.34493964,  1.39152208,  0.43643578,\n",
       "        -0.5826053 ],\n",
       "       [-0.35759226, -0.94310456, -1.09480843, -1.09333878,  0.43643578,\n",
       "        -0.69196878],\n",
       "       [-1.08244142, -0.94310456, -1.09480843, -0.6791953 ,  0.43643578,\n",
       "        -0.6551671 ],\n",
       "       [ 0.85048969,  0.94892619, -0.71987403, -0.6791953 ,  0.43643578,\n",
       "         0.33778387],\n",
       "       [ 2.05857163, -0.36094125, -1.09480843, -0.6791953 ,  0.43643578,\n",
       "        -0.75133753],\n",
       "       [ 2.05857163, -0.36094125, -1.09480843, -0.6791953 ,  1.34567699,\n",
       "        -0.75376783],\n",
       "       [ 0.85048969, -0.65202291, -0.71987403, -0.6791953 ,  1.34567699,\n",
       "        -0.70932807],\n",
       "       [-0.84082503, -0.0698596 , -1.09480843, -1.09333878,  1.34567699,\n",
       "         0.90057181],\n",
       "       [-0.11597587, -0.36094125,  0.40492914, -0.26505182,  1.34567699,\n",
       "        -0.35068529],\n",
       "       [-1.08244142, -0.79756373,  1.15479793,  0.56323513,  1.34567699,\n",
       "        -0.29756588],\n",
       "       [-0.84082503, -0.79756373,  1.15479793,  1.39152208,  1.34567699,\n",
       "        -0.56281572]])"
      ]
     },
     "execution_count": 10,
     "metadata": {},
     "output_type": "execute_result"
    }
   ],
   "source": [
    "transformed_data"
   ]
  },
  {
   "cell_type": "code",
   "execution_count": 11,
   "id": "e9e5466f",
   "metadata": {},
   "outputs": [],
   "source": [
    "df = pd.DataFrame(transformed_data)"
   ]
  },
  {
   "cell_type": "code",
   "execution_count": 12,
   "id": "0f5dcb83",
   "metadata": {},
   "outputs": [
    {
     "data": {
      "text/html": [
       "<div>\n",
       "<style scoped>\n",
       "    .dataframe tbody tr th:only-of-type {\n",
       "        vertical-align: middle;\n",
       "    }\n",
       "\n",
       "    .dataframe tbody tr th {\n",
       "        vertical-align: top;\n",
       "    }\n",
       "\n",
       "    .dataframe thead th {\n",
       "        text-align: right;\n",
       "    }\n",
       "</style>\n",
       "<table border=\"1\" class=\"dataframe\">\n",
       "  <thead>\n",
       "    <tr style=\"text-align: right;\">\n",
       "      <th></th>\n",
       "      <th>0</th>\n",
       "      <th>1</th>\n",
       "      <th>2</th>\n",
       "      <th>3</th>\n",
       "      <th>4</th>\n",
       "      <th>5</th>\n",
       "    </tr>\n",
       "  </thead>\n",
       "  <tbody>\n",
       "    <tr>\n",
       "      <th>0</th>\n",
       "      <td>-0.840825</td>\n",
       "      <td>-0.797564</td>\n",
       "      <td>-0.719874</td>\n",
       "      <td>-0.679195</td>\n",
       "      <td>-1.382047</td>\n",
       "      <td>-0.550317</td>\n",
       "    </tr>\n",
       "    <tr>\n",
       "      <th>1</th>\n",
       "      <td>0.367257</td>\n",
       "      <td>3.132039</td>\n",
       "      <td>1.154798</td>\n",
       "      <td>1.391522</td>\n",
       "      <td>-1.382047</td>\n",
       "      <td>-0.721827</td>\n",
       "    </tr>\n",
       "    <tr>\n",
       "      <th>2</th>\n",
       "      <td>-0.840825</td>\n",
       "      <td>-0.360941</td>\n",
       "      <td>0.404929</td>\n",
       "      <td>0.563235</td>\n",
       "      <td>-1.382047</td>\n",
       "      <td>-0.229865</td>\n",
       "    </tr>\n",
       "    <tr>\n",
       "      <th>3</th>\n",
       "      <td>-0.599209</td>\n",
       "      <td>-0.652023</td>\n",
       "      <td>-0.344940</td>\n",
       "      <td>3.048096</td>\n",
       "      <td>-1.382047</td>\n",
       "      <td>-0.753073</td>\n",
       "    </tr>\n",
       "    <tr>\n",
       "      <th>4</th>\n",
       "      <td>0.367257</td>\n",
       "      <td>-0.215400</td>\n",
       "      <td>0.404929</td>\n",
       "      <td>0.149092</td>\n",
       "      <td>-1.382047</td>\n",
       "      <td>-0.543721</td>\n",
       "    </tr>\n",
       "  </tbody>\n",
       "</table>\n",
       "</div>"
      ],
      "text/plain": [
       "          0         1         2         3         4         5\n",
       "0 -0.840825 -0.797564 -0.719874 -0.679195 -1.382047 -0.550317\n",
       "1  0.367257  3.132039  1.154798  1.391522 -1.382047 -0.721827\n",
       "2 -0.840825 -0.360941  0.404929  0.563235 -1.382047 -0.229865\n",
       "3 -0.599209 -0.652023 -0.344940  3.048096 -1.382047 -0.753073\n",
       "4  0.367257 -0.215400  0.404929  0.149092 -1.382047 -0.543721"
      ]
     },
     "execution_count": 12,
     "metadata": {},
     "output_type": "execute_result"
    }
   ],
   "source": [
    "df.head()"
   ]
  },
  {
   "cell_type": "code",
   "execution_count": 13,
   "id": "af139487",
   "metadata": {},
   "outputs": [],
   "source": [
    "X=df.iloc[:,:5]"
   ]
  },
  {
   "cell_type": "code",
   "execution_count": 14,
   "id": "6686809c",
   "metadata": {},
   "outputs": [
    {
     "data": {
      "text/html": [
       "<div>\n",
       "<style scoped>\n",
       "    .dataframe tbody tr th:only-of-type {\n",
       "        vertical-align: middle;\n",
       "    }\n",
       "\n",
       "    .dataframe tbody tr th {\n",
       "        vertical-align: top;\n",
       "    }\n",
       "\n",
       "    .dataframe thead th {\n",
       "        text-align: right;\n",
       "    }\n",
       "</style>\n",
       "<table border=\"1\" class=\"dataframe\">\n",
       "  <thead>\n",
       "    <tr style=\"text-align: right;\">\n",
       "      <th></th>\n",
       "      <th>0</th>\n",
       "      <th>1</th>\n",
       "      <th>2</th>\n",
       "      <th>3</th>\n",
       "      <th>4</th>\n",
       "    </tr>\n",
       "  </thead>\n",
       "  <tbody>\n",
       "    <tr>\n",
       "      <th>0</th>\n",
       "      <td>-0.840825</td>\n",
       "      <td>-0.797564</td>\n",
       "      <td>-0.719874</td>\n",
       "      <td>-0.679195</td>\n",
       "      <td>-1.382047</td>\n",
       "    </tr>\n",
       "    <tr>\n",
       "      <th>1</th>\n",
       "      <td>0.367257</td>\n",
       "      <td>3.132039</td>\n",
       "      <td>1.154798</td>\n",
       "      <td>1.391522</td>\n",
       "      <td>-1.382047</td>\n",
       "    </tr>\n",
       "    <tr>\n",
       "      <th>2</th>\n",
       "      <td>-0.840825</td>\n",
       "      <td>-0.360941</td>\n",
       "      <td>0.404929</td>\n",
       "      <td>0.563235</td>\n",
       "      <td>-1.382047</td>\n",
       "    </tr>\n",
       "    <tr>\n",
       "      <th>3</th>\n",
       "      <td>-0.599209</td>\n",
       "      <td>-0.652023</td>\n",
       "      <td>-0.344940</td>\n",
       "      <td>3.048096</td>\n",
       "      <td>-1.382047</td>\n",
       "    </tr>\n",
       "    <tr>\n",
       "      <th>4</th>\n",
       "      <td>0.367257</td>\n",
       "      <td>-0.215400</td>\n",
       "      <td>0.404929</td>\n",
       "      <td>0.149092</td>\n",
       "      <td>-1.382047</td>\n",
       "    </tr>\n",
       "  </tbody>\n",
       "</table>\n",
       "</div>"
      ],
      "text/plain": [
       "          0         1         2         3         4\n",
       "0 -0.840825 -0.797564 -0.719874 -0.679195 -1.382047\n",
       "1  0.367257  3.132039  1.154798  1.391522 -1.382047\n",
       "2 -0.840825 -0.360941  0.404929  0.563235 -1.382047\n",
       "3 -0.599209 -0.652023 -0.344940  3.048096 -1.382047\n",
       "4  0.367257 -0.215400  0.404929  0.149092 -1.382047"
      ]
     },
     "execution_count": 14,
     "metadata": {},
     "output_type": "execute_result"
    }
   ],
   "source": [
    "X.head()"
   ]
  },
  {
   "cell_type": "code",
   "execution_count": 15,
   "id": "b213d6c6",
   "metadata": {},
   "outputs": [],
   "source": [
    "y=df.iloc[:,-1]"
   ]
  },
  {
   "cell_type": "code",
   "execution_count": 16,
   "id": "7c208214",
   "metadata": {},
   "outputs": [
    {
     "data": {
      "text/plain": [
       "0   -0.550317\n",
       "1   -0.721827\n",
       "2   -0.229865\n",
       "3   -0.753073\n",
       "4   -0.543721\n",
       "Name: 5, dtype: float64"
      ]
     },
     "execution_count": 16,
     "metadata": {},
     "output_type": "execute_result"
    }
   ],
   "source": [
    "y.head()"
   ]
  },
  {
   "cell_type": "code",
   "execution_count": 18,
   "id": "474fa567",
   "metadata": {},
   "outputs": [],
   "source": [
    "X_train, X_test,y_train, y_test = train_test_split(X,y,random_state=104,test_size=0.2)"
   ]
  },
  {
   "cell_type": "code",
   "execution_count": 19,
   "id": "b257e05d",
   "metadata": {},
   "outputs": [],
   "source": [
    "LR=LinearRegression()"
   ]
  },
  {
   "cell_type": "code",
   "execution_count": 20,
   "id": "8dacf3c2",
   "metadata": {},
   "outputs": [
    {
     "data": {
      "text/html": [
       "<style>#sk-container-id-1 {color: black;}#sk-container-id-1 pre{padding: 0;}#sk-container-id-1 div.sk-toggleable {background-color: white;}#sk-container-id-1 label.sk-toggleable__label {cursor: pointer;display: block;width: 100%;margin-bottom: 0;padding: 0.3em;box-sizing: border-box;text-align: center;}#sk-container-id-1 label.sk-toggleable__label-arrow:before {content: \"▸\";float: left;margin-right: 0.25em;color: #696969;}#sk-container-id-1 label.sk-toggleable__label-arrow:hover:before {color: black;}#sk-container-id-1 div.sk-estimator:hover label.sk-toggleable__label-arrow:before {color: black;}#sk-container-id-1 div.sk-toggleable__content {max-height: 0;max-width: 0;overflow: hidden;text-align: left;background-color: #f0f8ff;}#sk-container-id-1 div.sk-toggleable__content pre {margin: 0.2em;color: black;border-radius: 0.25em;background-color: #f0f8ff;}#sk-container-id-1 input.sk-toggleable__control:checked~div.sk-toggleable__content {max-height: 200px;max-width: 100%;overflow: auto;}#sk-container-id-1 input.sk-toggleable__control:checked~label.sk-toggleable__label-arrow:before {content: \"▾\";}#sk-container-id-1 div.sk-estimator input.sk-toggleable__control:checked~label.sk-toggleable__label {background-color: #d4ebff;}#sk-container-id-1 div.sk-label input.sk-toggleable__control:checked~label.sk-toggleable__label {background-color: #d4ebff;}#sk-container-id-1 input.sk-hidden--visually {border: 0;clip: rect(1px 1px 1px 1px);clip: rect(1px, 1px, 1px, 1px);height: 1px;margin: -1px;overflow: hidden;padding: 0;position: absolute;width: 1px;}#sk-container-id-1 div.sk-estimator {font-family: monospace;background-color: #f0f8ff;border: 1px dotted black;border-radius: 0.25em;box-sizing: border-box;margin-bottom: 0.5em;}#sk-container-id-1 div.sk-estimator:hover {background-color: #d4ebff;}#sk-container-id-1 div.sk-parallel-item::after {content: \"\";width: 100%;border-bottom: 1px solid gray;flex-grow: 1;}#sk-container-id-1 div.sk-label:hover label.sk-toggleable__label {background-color: #d4ebff;}#sk-container-id-1 div.sk-serial::before {content: \"\";position: absolute;border-left: 1px solid gray;box-sizing: border-box;top: 0;bottom: 0;left: 50%;z-index: 0;}#sk-container-id-1 div.sk-serial {display: flex;flex-direction: column;align-items: center;background-color: white;padding-right: 0.2em;padding-left: 0.2em;position: relative;}#sk-container-id-1 div.sk-item {position: relative;z-index: 1;}#sk-container-id-1 div.sk-parallel {display: flex;align-items: stretch;justify-content: center;background-color: white;position: relative;}#sk-container-id-1 div.sk-item::before, #sk-container-id-1 div.sk-parallel-item::before {content: \"\";position: absolute;border-left: 1px solid gray;box-sizing: border-box;top: 0;bottom: 0;left: 50%;z-index: -1;}#sk-container-id-1 div.sk-parallel-item {display: flex;flex-direction: column;z-index: 1;position: relative;background-color: white;}#sk-container-id-1 div.sk-parallel-item:first-child::after {align-self: flex-end;width: 50%;}#sk-container-id-1 div.sk-parallel-item:last-child::after {align-self: flex-start;width: 50%;}#sk-container-id-1 div.sk-parallel-item:only-child::after {width: 0;}#sk-container-id-1 div.sk-dashed-wrapped {border: 1px dashed gray;margin: 0 0.4em 0.5em 0.4em;box-sizing: border-box;padding-bottom: 0.4em;background-color: white;}#sk-container-id-1 div.sk-label label {font-family: monospace;font-weight: bold;display: inline-block;line-height: 1.2em;}#sk-container-id-1 div.sk-label-container {text-align: center;}#sk-container-id-1 div.sk-container {/* jupyter's `normalize.less` sets `[hidden] { display: none; }` but bootstrap.min.css set `[hidden] { display: none !important; }` so we also need the `!important` here to be able to override the default hidden behavior on the sphinx rendered scikit-learn.org. See: https://github.com/scikit-learn/scikit-learn/issues/21755 */display: inline-block !important;position: relative;}#sk-container-id-1 div.sk-text-repr-fallback {display: none;}</style><div id=\"sk-container-id-1\" class=\"sk-top-container\"><div class=\"sk-text-repr-fallback\"><pre>LinearRegression()</pre><b>In a Jupyter environment, please rerun this cell to show the HTML representation or trust the notebook. <br />On GitHub, the HTML representation is unable to render, please try loading this page with nbviewer.org.</b></div><div class=\"sk-container\" hidden><div class=\"sk-item\"><div class=\"sk-estimator sk-toggleable\"><input class=\"sk-toggleable__control sk-hidden--visually\" id=\"sk-estimator-id-1\" type=\"checkbox\" checked><label for=\"sk-estimator-id-1\" class=\"sk-toggleable__label sk-toggleable__label-arrow\">LinearRegression</label><div class=\"sk-toggleable__content\"><pre>LinearRegression()</pre></div></div></div></div></div>"
      ],
      "text/plain": [
       "LinearRegression()"
      ]
     },
     "execution_count": 20,
     "metadata": {},
     "output_type": "execute_result"
    }
   ],
   "source": [
    "LR.fit(X_train,y_train)"
   ]
  },
  {
   "cell_type": "code",
   "execution_count": 34,
   "id": "f1a421ba",
   "metadata": {},
   "outputs": [
    {
     "data": {
      "text/plain": [
       "array([-0.37053604,  0.44235012,  0.49233469, -0.5144349 ,  0.02212615])"
      ]
     },
     "execution_count": 34,
     "metadata": {},
     "output_type": "execute_result"
    }
   ],
   "source": [
    "LR.coef_"
   ]
  },
  {
   "cell_type": "code",
   "execution_count": 21,
   "id": "39413ff9",
   "metadata": {},
   "outputs": [],
   "source": [
    "y_pred = LR.predict(X_test)"
   ]
  },
  {
   "cell_type": "code",
   "execution_count": 22,
   "id": "f4b7b168",
   "metadata": {},
   "outputs": [],
   "source": [
    "MSE=mean_squared_error(y_test,y_pred)"
   ]
  },
  {
   "cell_type": "code",
   "execution_count": 23,
   "id": "5f37e34a",
   "metadata": {},
   "outputs": [
    {
     "data": {
      "text/plain": [
       "0.23862167395211578"
      ]
     },
     "execution_count": 23,
     "metadata": {},
     "output_type": "execute_result"
    }
   ],
   "source": [
    "MSE"
   ]
  },
  {
   "cell_type": "code",
   "execution_count": 25,
   "id": "ada66c68",
   "metadata": {},
   "outputs": [],
   "source": [
    "RMSE=np.sqrt(MSE)"
   ]
  },
  {
   "cell_type": "code",
   "execution_count": 26,
   "id": "93ce0062",
   "metadata": {},
   "outputs": [
    {
     "data": {
      "text/plain": [
       "0.4884891748566346"
      ]
     },
     "execution_count": 26,
     "metadata": {},
     "output_type": "execute_result"
    }
   ],
   "source": [
    "RMSE"
   ]
  },
  {
   "cell_type": "code",
   "execution_count": 17,
   "id": "1c0793e2",
   "metadata": {},
   "outputs": [],
   "source": [
    "import statsmodels.api as sm"
   ]
  },
  {
   "cell_type": "code",
   "execution_count": 27,
   "id": "2f7d1a48",
   "metadata": {},
   "outputs": [],
   "source": [
    "a=sm.OLS(y_train,X_train).fit()"
   ]
  },
  {
   "cell_type": "code",
   "execution_count": 28,
   "id": "75bfa762",
   "metadata": {},
   "outputs": [
    {
     "data": {
      "text/html": [
       "<table class=\"simpletable\">\n",
       "<caption>OLS Regression Results</caption>\n",
       "<tr>\n",
       "  <th>Dep. Variable:</th>            <td>5</td>        <th>  R-squared (uncentered):</th>      <td>   0.563</td>\n",
       "</tr>\n",
       "<tr>\n",
       "  <th>Model:</th>                   <td>OLS</td>       <th>  Adj. R-squared (uncentered):</th> <td>   0.417</td>\n",
       "</tr>\n",
       "<tr>\n",
       "  <th>Method:</th>             <td>Least Squares</td>  <th>  F-statistic:       </th>          <td>   3.859</td>\n",
       "</tr>\n",
       "<tr>\n",
       "  <th>Date:</th>             <td>Wed, 21 Feb 2024</td> <th>  Prob (F-statistic):</th>           <td>0.0190</td> \n",
       "</tr>\n",
       "<tr>\n",
       "  <th>Time:</th>                 <td>11:32:06</td>     <th>  Log-Likelihood:    </th>          <td> -21.462</td>\n",
       "</tr>\n",
       "<tr>\n",
       "  <th>No. Observations:</th>      <td>    20</td>      <th>  AIC:               </th>          <td>   52.92</td>\n",
       "</tr>\n",
       "<tr>\n",
       "  <th>Df Residuals:</th>          <td>    15</td>      <th>  BIC:               </th>          <td>   57.90</td>\n",
       "</tr>\n",
       "<tr>\n",
       "  <th>Df Model:</th>              <td>     5</td>      <th>                     </th>              <td> </td>   \n",
       "</tr>\n",
       "<tr>\n",
       "  <th>Covariance Type:</th>      <td>nonrobust</td>    <th>                     </th>              <td> </td>   \n",
       "</tr>\n",
       "</table>\n",
       "<table class=\"simpletable\">\n",
       "<tr>\n",
       "  <td></td>     <th>coef</th>     <th>std err</th>      <th>t</th>      <th>P>|t|</th>  <th>[0.025</th>    <th>0.975]</th>  \n",
       "</tr>\n",
       "<tr>\n",
       "  <th>0</th> <td>   -0.3766</td> <td>    0.264</td> <td>   -1.424</td> <td> 0.175</td> <td>   -0.940</td> <td>    0.187</td>\n",
       "</tr>\n",
       "<tr>\n",
       "  <th>1</th> <td>    0.4434</td> <td>    0.205</td> <td>    2.158</td> <td> 0.048</td> <td>    0.006</td> <td>    0.881</td>\n",
       "</tr>\n",
       "<tr>\n",
       "  <th>2</th> <td>    0.4916</td> <td>    0.220</td> <td>    2.239</td> <td> 0.041</td> <td>    0.024</td> <td>    0.960</td>\n",
       "</tr>\n",
       "<tr>\n",
       "  <th>3</th> <td>   -0.5128</td> <td>    0.198</td> <td>   -2.592</td> <td> 0.020</td> <td>   -0.934</td> <td>   -0.091</td>\n",
       "</tr>\n",
       "<tr>\n",
       "  <th>4</th> <td>    0.0170</td> <td>    0.209</td> <td>    0.081</td> <td> 0.936</td> <td>   -0.428</td> <td>    0.462</td>\n",
       "</tr>\n",
       "</table>\n",
       "<table class=\"simpletable\">\n",
       "<tr>\n",
       "  <th>Omnibus:</th>       <td> 1.589</td> <th>  Durbin-Watson:     </th> <td>   2.397</td>\n",
       "</tr>\n",
       "<tr>\n",
       "  <th>Prob(Omnibus):</th> <td> 0.452</td> <th>  Jarque-Bera (JB):  </th> <td>   0.406</td>\n",
       "</tr>\n",
       "<tr>\n",
       "  <th>Skew:</th>          <td>-0.239</td> <th>  Prob(JB):          </th> <td>   0.816</td>\n",
       "</tr>\n",
       "<tr>\n",
       "  <th>Kurtosis:</th>      <td> 3.509</td> <th>  Cond. No.          </th> <td>    2.36</td>\n",
       "</tr>\n",
       "</table><br/><br/>Notes:<br/>[1] R² is computed without centering (uncentered) since the model does not contain a constant.<br/>[2] Standard Errors assume that the covariance matrix of the errors is correctly specified."
      ],
      "text/latex": [
       "\\begin{center}\n",
       "\\begin{tabular}{lclc}\n",
       "\\toprule\n",
       "\\textbf{Dep. Variable:}    &        5         & \\textbf{  R-squared (uncentered):}      &     0.563   \\\\\n",
       "\\textbf{Model:}            &       OLS        & \\textbf{  Adj. R-squared (uncentered):} &     0.417   \\\\\n",
       "\\textbf{Method:}           &  Least Squares   & \\textbf{  F-statistic:       }          &     3.859   \\\\\n",
       "\\textbf{Date:}             & Wed, 21 Feb 2024 & \\textbf{  Prob (F-statistic):}          &   0.0190    \\\\\n",
       "\\textbf{Time:}             &     11:32:06     & \\textbf{  Log-Likelihood:    }          &   -21.462   \\\\\n",
       "\\textbf{No. Observations:} &          20      & \\textbf{  AIC:               }          &     52.92   \\\\\n",
       "\\textbf{Df Residuals:}     &          15      & \\textbf{  BIC:               }          &     57.90   \\\\\n",
       "\\textbf{Df Model:}         &           5      & \\textbf{                     }          &             \\\\\n",
       "\\textbf{Covariance Type:}  &    nonrobust     & \\textbf{                     }          &             \\\\\n",
       "\\bottomrule\n",
       "\\end{tabular}\n",
       "\\begin{tabular}{lcccccc}\n",
       "           & \\textbf{coef} & \\textbf{std err} & \\textbf{t} & \\textbf{P$> |$t$|$} & \\textbf{[0.025} & \\textbf{0.975]}  \\\\\n",
       "\\midrule\n",
       "\\textbf{0} &      -0.3766  &        0.264     &    -1.424  &         0.175        &       -0.940    &        0.187     \\\\\n",
       "\\textbf{1} &       0.4434  &        0.205     &     2.158  &         0.048        &        0.006    &        0.881     \\\\\n",
       "\\textbf{2} &       0.4916  &        0.220     &     2.239  &         0.041        &        0.024    &        0.960     \\\\\n",
       "\\textbf{3} &      -0.5128  &        0.198     &    -2.592  &         0.020        &       -0.934    &       -0.091     \\\\\n",
       "\\textbf{4} &       0.0170  &        0.209     &     0.081  &         0.936        &       -0.428    &        0.462     \\\\\n",
       "\\bottomrule\n",
       "\\end{tabular}\n",
       "\\begin{tabular}{lclc}\n",
       "\\textbf{Omnibus:}       &  1.589 & \\textbf{  Durbin-Watson:     } &    2.397  \\\\\n",
       "\\textbf{Prob(Omnibus):} &  0.452 & \\textbf{  Jarque-Bera (JB):  } &    0.406  \\\\\n",
       "\\textbf{Skew:}          & -0.239 & \\textbf{  Prob(JB):          } &    0.816  \\\\\n",
       "\\textbf{Kurtosis:}      &  3.509 & \\textbf{  Cond. No.          } &     2.36  \\\\\n",
       "\\bottomrule\n",
       "\\end{tabular}\n",
       "%\\caption{OLS Regression Results}\n",
       "\\end{center}\n",
       "\n",
       "Notes: \\newline\n",
       " [1] R² is computed without centering (uncentered) since the model does not contain a constant. \\newline\n",
       " [2] Standard Errors assume that the covariance matrix of the errors is correctly specified."
      ],
      "text/plain": [
       "<class 'statsmodels.iolib.summary.Summary'>\n",
       "\"\"\"\n",
       "                                 OLS Regression Results                                \n",
       "=======================================================================================\n",
       "Dep. Variable:                      5   R-squared (uncentered):                   0.563\n",
       "Model:                            OLS   Adj. R-squared (uncentered):              0.417\n",
       "Method:                 Least Squares   F-statistic:                              3.859\n",
       "Date:                Wed, 21 Feb 2024   Prob (F-statistic):                      0.0190\n",
       "Time:                        11:32:06   Log-Likelihood:                         -21.462\n",
       "No. Observations:                  20   AIC:                                      52.92\n",
       "Df Residuals:                      15   BIC:                                      57.90\n",
       "Df Model:                           5                                                  \n",
       "Covariance Type:            nonrobust                                                  \n",
       "==============================================================================\n",
       "                 coef    std err          t      P>|t|      [0.025      0.975]\n",
       "------------------------------------------------------------------------------\n",
       "0             -0.3766      0.264     -1.424      0.175      -0.940       0.187\n",
       "1              0.4434      0.205      2.158      0.048       0.006       0.881\n",
       "2              0.4916      0.220      2.239      0.041       0.024       0.960\n",
       "3             -0.5128      0.198     -2.592      0.020      -0.934      -0.091\n",
       "4              0.0170      0.209      0.081      0.936      -0.428       0.462\n",
       "==============================================================================\n",
       "Omnibus:                        1.589   Durbin-Watson:                   2.397\n",
       "Prob(Omnibus):                  0.452   Jarque-Bera (JB):                0.406\n",
       "Skew:                          -0.239   Prob(JB):                        0.816\n",
       "Kurtosis:                       3.509   Cond. No.                         2.36\n",
       "==============================================================================\n",
       "\n",
       "Notes:\n",
       "[1] R² is computed without centering (uncentered) since the model does not contain a constant.\n",
       "[2] Standard Errors assume that the covariance matrix of the errors is correctly specified.\n",
       "\"\"\""
      ]
     },
     "execution_count": 28,
     "metadata": {},
     "output_type": "execute_result"
    }
   ],
   "source": [
    "a.summary()"
   ]
  },
  {
   "cell_type": "code",
   "execution_count": null,
   "id": "18742f74",
   "metadata": {},
   "outputs": [],
   "source": []
  }
 ],
 "metadata": {
  "kernelspec": {
   "display_name": "Python 3 (ipykernel)",
   "language": "python",
   "name": "python3"
  },
  "language_info": {
   "codemirror_mode": {
    "name": "ipython",
    "version": 3
   },
   "file_extension": ".py",
   "mimetype": "text/x-python",
   "name": "python",
   "nbconvert_exporter": "python",
   "pygments_lexer": "ipython3",
   "version": "3.11.5"
  }
 },
 "nbformat": 4,
 "nbformat_minor": 5
}
